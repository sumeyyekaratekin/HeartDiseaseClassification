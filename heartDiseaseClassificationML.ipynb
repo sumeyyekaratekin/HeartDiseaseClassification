{
 "cells": [
  {
   "cell_type": "code",
   "execution_count": 4,
   "metadata": {
    "scrolled": true,
    "ExecuteTime": {
     "end_time": "2024-02-11T19:39:26.120317Z",
     "start_time": "2024-02-11T19:39:26.117282Z"
    }
   },
   "outputs": [],
   "source": [
    "import pandas as pd\n",
    "import matplotlib.pyplot as plt\n",
    "import numpy as np\n",
    "from sklearn.preprocessing import StandardScaler\n",
    "from sklearn.model_selection import train_test_split, cross_val_score, GridSearchCV\n",
    "from sklearn.metrics import confusion_matrix,accuracy_score,roc_curve,roc_auc_score,classification_report,f1_score\n",
    "from sklearn.linear_model import LogisticRegression\n",
    "from sklearn.ensemble import RandomForestClassifier\n",
    "from sklearn.neighbors import KNeighborsClassifier\n",
    "from sklearn.naive_bayes import GaussianNB\n",
    "from sklearn.svm import SVC\n",
    "from sklearn.dummy import DummyClassifier\n",
    "from sklearn import metrics"
   ],
   "id": "1cd6f472df71bfd9"
  },
  {
   "cell_type": "code",
   "execution_count": 5,
   "metadata": {
    "ExecuteTime": {
     "end_time": "2024-02-11T19:39:26.713966Z",
     "start_time": "2024-02-11T19:39:26.706629Z"
    }
   },
   "outputs": [],
   "source": [
    "df=pd.read_csv('heart.csv')"
   ],
   "id": "9c5d99362d9c71d6"
  },
  {
   "cell_type": "code",
   "execution_count": 6,
   "metadata": {
    "ExecuteTime": {
     "end_time": "2024-02-11T19:39:27.222413Z",
     "start_time": "2024-02-11T19:39:27.217145Z"
    }
   },
   "outputs": [],
   "source": [
    "y = df[\"target\"]\n",
    "X = df.drop('target',axis=1)\n",
    "X_train, X_test, y_train, y_test = train_test_split(X, y, test_size=0.20, random_state = 0)\n",
    "scaler = StandardScaler()\n",
    "X_train = scaler.fit_transform(X_train)\n",
    "X_test = scaler.transform(X_test)"
   ],
   "id": "bf95a186bd071ca8"
  },
  {
   "cell_type": "markdown",
   "source": [
    "## Dummy Clasifier"
   ],
   "metadata": {
    "collapsed": false
   },
   "id": "f64bb89911fcac81"
  },
  {
   "cell_type": "code",
   "execution_count": null,
   "metadata": {},
   "outputs": [],
   "source": [
    "dummy_clf = DummyClassifier(strategy=\"stratified\")\n",
    "dummy_clf.fit(X_train, y_train)\n",
    "DummyClassifier(strategy='stratified')\n",
    "dummy_clf.predict(X_test)\n",
    "dummy_clf.score(X_test, y_test)"
   ],
   "id": "d13d0453f0b2b575"
  },
  {
   "cell_type": "markdown",
   "metadata": {},
   "source": [
    "## Logistic Regression"
   ],
   "id": "54c4393239ba38b8"
  },
  {
   "cell_type": "code",
   "execution_count": null,
   "metadata": {
    "scrolled": true
   },
   "outputs": [],
   "source": [
    "logreg = LogisticRegression()\n",
    "logreg.fit(X_train, y_train)\n",
    "y_pred_log = logreg.predict(X_test)\n",
    "lr_acc_score=metrics.accuracy_score(y_test, y_pred_log)\n",
    "lr_f1_score=metrics.f1_score(y_test, y_pred_log)\n",
    "lr_conf_matrix = confusion_matrix(y_test, y_pred_log)\n",
    "print('Test Accuracy score: ', lr_acc_score)\n",
    "print('Test F1 score: ', lr_f1_score)\n",
    "print(\"confusion matrix\")\n",
    "print(lr_conf_matrix)\n",
    "print(\"\\n\")\n",
    "print(classification_report(y_test,y_pred_log))"
   ],
   "id": "fa81daa7baf74172"
  },
  {
   "cell_type": "markdown",
   "metadata": {},
   "source": [
    "## KNN"
   ],
   "id": "f07af8d9f4b511e4"
  },
  {
   "cell_type": "code",
   "execution_count": null,
   "metadata": {},
   "outputs": [],
   "source": [
    "knn = KNeighborsClassifier()\n",
    "knn.fit(X_train, y_train)\n",
    "# make class predictions for the testing set\n",
    "y_pred_knn = knn.predict(X_test)\n",
    "knn_acc_score=metrics.accuracy_score(y_test, y_pred_knn)\n",
    "knn_f1_score=metrics.f1_score(y_test, y_pred_knn)\n",
    "knn_conf_matrix = confusion_matrix(y_test, y_pred_knn)\n",
    "# checking accuracy\n",
    "print('Test Accuracy score: ', knn_acc_score)\n",
    "print('Test F1 score: ',knn_f1_score )\n",
    "print(\"confusion matrix\")\n",
    "print(knn_conf_matrix)\n",
    "print(\"\\n\")\n",
    "print(classification_report(y_test,y_pred_knn))"
   ],
   "id": "a6390081210ccc9"
  },
  {
   "cell_type": "markdown",
   "metadata": {},
   "source": [
    "## Random Forest"
   ],
   "id": "e25d381ef37427d5"
  },
  {
   "cell_type": "code",
   "execution_count": null,
   "metadata": {},
   "outputs": [],
   "source": [
    "rfc = RandomForestClassifier()\n",
    "rfc.fit(X_train, y_train)\n",
    "y_pred_forest = rfc.predict(X_test)\n",
    "rfc_acc_score=metrics.accuracy_score(y_test, y_pred_forest)\n",
    "rfc_f1_score = metrics.f1_score(y_test, y_pred_forest)\n",
    "rfc_conf_matrix=confusion_matrix(y_test,y_pred_forest)\n",
    "# checking accuracy\n",
    "print('Test Accuracy score: ', rfc_acc_score)\n",
    "print('Test F1 score: ', rfc_f1_score)\n",
    "print(\"confusion matrix\")\n",
    "print(rfc_conf_matrix)\n",
    "print(\"\\n\")\n",
    "print(classification_report(y_test,y_pred_forest))"
   ],
   "id": "67dce8a1fa49bb60"
  },
  {
   "cell_type": "markdown",
   "metadata": {},
   "source": [
    "## Naive Bayes"
   ],
   "id": "42cf7de682795a2c"
  },
  {
   "cell_type": "code",
   "execution_count": null,
   "metadata": {},
   "outputs": [],
   "source": [
    "nb = GaussianNB()\n",
    "nb.fit(X_train,y_train)\n",
    "y_pred_nb = nb.predict(X_test)\n",
    "nb_conf_matrix = confusion_matrix(y_test,y_pred_nb)\n",
    "nb_acc_score = metrics.accuracy_score(y_test, y_pred_nb)\n",
    "nb_f1_score=metrics.f1_score(y_test, y_pred_nb)\n",
    "print('Test Accuracy score: ',nb_acc_score)\n",
    "print('Test F1 score: ', nb_f1_score)\n",
    "print(\"confusion matrix\")\n",
    "print(nb_conf_matrix)\n",
    "print(\"\\n\")\n",
    "print(classification_report(y_test,y_pred_nb))"
   ],
   "id": "740eb0e2997b383"
  },
  {
   "cell_type": "markdown",
   "metadata": {},
   "source": [
    "## Support Vector Classifier"
   ],
   "id": "a7f2dd109e8251b6"
  },
  {
   "cell_type": "code",
   "execution_count": null,
   "metadata": {
    "scrolled": false
   },
   "outputs": [],
   "source": [
    "svc =  SVC(kernel='rbf', C=2)\n",
    "svc.fit(X_train, y_train)\n",
    "y_pred_svc = svc.predict(X_test)\n",
    "svc_conf_matrix = confusion_matrix(y_test, y_pred_svc)\n",
    "svc_acc_score = metrics.accuracy_score(y_test, y_pred_svc)\n",
    "svc_f1_score = metrics.f1_score(y_test, y_pred_svc)\n",
    "print('Test Accuracy score: ',svc_acc_score)\n",
    "print('Test F1 score: ', svc_f1_score)\n",
    "print(\"confusion matrix\")\n",
    "print(svc_conf_matrix)\n",
    "print(\"\\n\")\n",
    "print(\"Accuracy of Support Vector Classifier:\",svc_acc_score,'\\n')\n",
    "print(classification_report(y_test,y_pred_svc))"
   ],
   "id": "ae8c30631a888640"
  },
  {
   "cell_type": "code",
   "execution_count": null,
   "metadata": {
    "scrolled": true
   },
   "outputs": [],
   "source": [
    "feature_importance = abs(logreg.coef_[0])\n",
    "feature_importance = 100.0 * (feature_importance / feature_importance.max())\n",
    "sorted_idx = np.argsort(feature_importance)\n",
    "pos = np.arange(sorted_idx.shape[0]) + .5\n",
    "\n",
    "featfig = plt.figure()\n",
    "featax = featfig.add_subplot(1, 1, 1)\n",
    "featax.barh(pos, feature_importance[sorted_idx], align='center')\n",
    "featax.set_yticks(pos)\n",
    "featax.set_yticklabels(np.array(X.columns)[sorted_idx], fontsize=10)\n",
    "featax.set_xlabel('Relative Feature Importance')\n",
    "\n",
    "plt.tight_layout()   \n",
    "plt.show()"
   ],
   "id": "74d428f8520b2ade"
  },
  {
   "cell_type": "markdown",
   "metadata": {},
   "source": [
    "# Model Evaluation"
   ],
   "id": "8c63ea9a753eb57f"
  },
  {
   "cell_type": "code",
   "execution_count": null,
   "metadata": {
    "scrolled": true
   },
   "outputs": [],
   "source": [
    "model_ev = pd.DataFrame({'Model': ['Logistic Regression','Random Forest',\n",
    "                    'K-Nearest Neighbour','Naive Bayes', 'Support Vector Classifier'], 'Accuracy': [lr_acc_score,rfc_acc_score,knn_acc_score,nb_acc_score, svc_acc_score]})\n",
    "model_ev"
   ],
   "id": "b5b093af8e0feb8b"
  },
  {
   "cell_type": "markdown",
   "metadata": {},
   "source": [
    "## Plot ROC Curves"
   ],
   "id": "9252234c22f8ac56"
  },
  {
   "cell_type": "code",
   "execution_count": null,
   "metadata": {},
   "outputs": [],
   "source": [
    "# Generate ROC curve values: fpr, tpr, thresholds\n",
    "fpr_log, tpr_log, thresholds_log = roc_curve(y_test, y_pred_log)\n",
    "fpr_knn, tpr_knn, thresholds_knn = roc_curve(y_test, y_pred_knn)\n",
    "fpr_rfc, tpr_rfc, thresholds_rfc = roc_curve(y_test, y_pred_forest)\n",
    "fpr_nb, tpr_nb, thresholds_nb = roc_curve(y_test, y_pred_nb)\n",
    "fpr_svc, tpr_svc, thresholds_svc = roc_curve(y_test, y_pred_svc)\n"
   ],
   "id": "b0bb3aabf7ce88c3"
  },
  {
   "cell_type": "code",
   "execution_count": null,
   "metadata": {
    "scrolled": true
   },
   "outputs": [],
   "source": [
    "# Plot ROC curve\n",
    "plt.plot([0, 1], [0, 1], 'k--')\n",
    "plt.plot(fpr_log, tpr_log,label = 'Logistic')\n",
    "plt.plot(fpr_knn, tpr_knn,label = 'KNN')\n",
    "plt.plot(fpr_rfc, tpr_rfc,label = 'Random Forest')\n",
    "plt.plot(fpr_nb,tpr_nb,label= 'Naive Bayes')\n",
    "plt.plot(fpr_svc,tpr_svc,label= 'Support Vector Classifier')\n",
    "plt.xlabel('False Positive Rate')\n",
    "plt.ylabel('True Positive Rate')\n",
    "plt.legend()\n",
    "plt.title('ROC Curve no GridSearch')\n",
    "plt.show()"
   ],
   "id": "f6cc436136a093e8"
  },
  {
   "cell_type": "code",
   "execution_count": null,
   "metadata": {
    "scrolled": false
   },
   "outputs": [],
   "source": [
    "# Compute and print AUC score\n",
    "print(\"AUC Logistic: {}\".format(roc_auc_score(y_test, y_pred_log)))\n",
    "print(\"AUC KNN: {}\".format(roc_auc_score(y_test, y_pred_knn)))\n",
    "print(\"AUC Random Forest: {}\".format(roc_auc_score(y_test, y_pred_forest)))\n",
    "print(\"AUC Naive Bayes: {}\".format(roc_auc_score(y_test, y_pred_nb)))\n",
    "print(\"AUC Support Vector Classifier: {}\".format(roc_auc_score(y_test, y_pred_svc)))"
   ],
   "id": "fc49b2d108e6a846"
  },
  {
   "cell_type": "markdown",
   "metadata": {},
   "source": [
    "# Grid Search CV"
   ],
   "id": "f7e5d7e2135b2a01"
  },
  {
   "cell_type": "markdown",
   "metadata": {},
   "source": [
    "## LR Grid"
   ],
   "id": "52087b787ee9e032"
  },
  {
   "cell_type": "code",
   "execution_count": null,
   "metadata": {},
   "outputs": [],
   "source": [
    "param_grid_log =  {'penalty' : ['l1', 'l2'],\n",
    "                   'C' : np.logspace(-4, 4, 20),\n",
    "                  }\n",
    "grid_search_log = GridSearchCV(estimator = logreg, param_grid = param_grid_log,cv = 7,scoring = 'accuracy',n_jobs = -1)"
   ],
   "id": "4acea18f5d765924"
  },
  {
   "cell_type": "code",
   "execution_count": null,
   "metadata": {},
   "outputs": [],
   "source": [
    "grid_search_log.fit(X_train,y_train)\n",
    "log_params = grid_search_log.best_params_\n",
    "print(log_params)"
   ],
   "id": "cb12438bb16c8fe7"
  },
  {
   "cell_type": "code",
   "execution_count": null,
   "metadata": {
    "scrolled": true
   },
   "outputs": [],
   "source": [
    "logreg_grid = LogisticRegression(**log_params)\n",
    "\n",
    "logreg_grid.fit(X_train, y_train)\n",
    "\n",
    "y_pred_log_grid = logreg_grid.predict(X_test)\n",
    "\n",
    "lr_f1_score2=metrics.f1_score(y_test, y_pred_log_grid)\n",
    "lr_acc_score2=metrics.accuracy_score(y_test, y_pred_log_grid)\n",
    "# checking accuracy\n",
    "print('Test Accuracy score: ', lr_acc_score2)\n",
    "\n",
    "# checking F1\n",
    "print('Test F1 score: ', lr_f1_score2)"
   ],
   "id": "bbc6273bc9d8f003"
  },
  {
   "cell_type": "markdown",
   "source": [
    "## NB Grid"
   ],
   "metadata": {
    "collapsed": false
   },
   "id": "ecf2afe67bcb0157"
  },
  {
   "cell_type": "code",
   "execution_count": null,
   "metadata": {
    "scrolled": true
   },
   "outputs": [],
   "source": [
    "nb.get_params().keys()"
   ],
   "id": "2b541c8be1f37cbf"
  },
  {
   "cell_type": "code",
   "execution_count": null,
   "metadata": {},
   "outputs": [],
   "source": [
    "param_grid_nb =  {'var_smoothing': np.logspace(0,-20, num=2)}\n",
    "#0,-20, num=10\n",
    "grid_search_nb = GridSearchCV(estimator = nb, param_grid = param_grid_nb, scoring = 'accuracy')"
   ],
   "id": "3c1f440d23d5e357"
  },
  {
   "cell_type": "code",
   "execution_count": null,
   "metadata": {},
   "outputs": [],
   "source": [
    "grid_search_nb.fit(X_train,y_train)\n",
    "nb_params = grid_search_nb.best_params_\n",
    "print(nb_params)"
   ],
   "id": "adcd4fabfec0faf4"
  },
  {
   "cell_type": "code",
   "execution_count": null,
   "metadata": {},
   "outputs": [],
   "source": [
    "nb_grid = GaussianNB(**nb_params)\n",
    "nb_grid.fit(X_train,y_train)\n",
    "y_pred_nb_grid = nb_grid.predict(X_test)\n",
    "nb_f1_score2=metrics.f1_score(y_test, y_pred_nb_grid)\n",
    "nb_acc_score2=metrics.accuracy_score(y_test, y_pred_nb_grid)\n",
    "\n",
    "\n",
    "# checking accuracy\n",
    "print('Test F1 score: ', nb_f1_score2)\n",
    "print('Test Accuracy score: ', nb_acc_score2)"
   ],
   "id": "7ccbd8de8e14289c"
  },
  {
   "cell_type": "markdown",
   "metadata": {},
   "source": [
    "## SVC Grid"
   ],
   "id": "5a21306457762ab9"
  },
  {
   "cell_type": "code",
   "execution_count": null,
   "metadata": {},
   "outputs": [],
   "source": [
    "svc.get_params().keys()"
   ],
   "id": "3a3ae6e3e22b8a2a"
  },
  {
   "cell_type": "code",
   "execution_count": null,
   "metadata": {},
   "outputs": [],
   "source": [
    "param_grid_svc =  {'kernel':['linear', 'rbf', 'poly'],\n",
    "                   'C' :[0.01,0.1, 1, 1.5,2],\n",
    "                   'class_weight':['balanced', None]\n",
    "                  }\n",
    "grid_search_svc = GridSearchCV(estimator = svc, param_grid = param_grid_svc,cv = 7,scoring = 'accuracy', n_jobs = -1)"
   ],
   "id": "a821ac992c77b60"
  },
  {
   "cell_type": "code",
   "execution_count": null,
   "metadata": {},
   "outputs": [],
   "source": [
    "grid_search_svc.fit(X_train,y_train)\n",
    "svc_params = grid_search_svc.best_params_\n",
    "print(svc_params)"
   ],
   "id": "21d9e365b6e43be5"
  },
  {
   "cell_type": "code",
   "execution_count": null,
   "metadata": {},
   "outputs": [],
   "source": [
    "svc_grid = SVC(**svc_params, probability=True)\n",
    "svc_grid.fit(X_train,y_train)\n",
    "y_pred_svc_grid = svc_grid.predict(X_test)\n",
    "svc_f1_score2=metrics.f1_score(y_test, y_pred_svc_grid)\n",
    "svc_acc_score2=metrics.accuracy_score(y_test, y_pred_svc_grid)\n",
    "\n",
    "svc_conf_matrix = confusion_matrix(y_test, y_pred_svc_grid)\n",
    "svc_acc_score_grid = metrics.accuracy_score(y_test, y_pred_svc_grid)\n",
    "print('Test F1 score: ',svc_f1_score2)\n",
    "print('Test Accuracy score:', svc_acc_score2)"
   ],
   "id": "c110c51e557d9ac0"
  },
  {
   "cell_type": "markdown",
   "metadata": {},
   "source": [
    "# KNN Grid"
   ],
   "id": "43a591e13081e23e"
  },
  {
   "cell_type": "code",
   "execution_count": null,
   "metadata": {},
   "outputs": [],
   "source": [
    "param_grid_knn = {'n_neighbors' : [5,10,15,20],\n",
    "                 'weights':['uniform','distance']\n",
    "                 }\n",
    "grid_search_knn = GridSearchCV(estimator = knn, param_grid = param_grid_knn,cv = 3, scoring = 'f1',n_jobs = -1)\n"
   ],
   "id": "d1cf9b34d722b3ed"
  },
  {
   "cell_type": "code",
   "execution_count": null,
   "metadata": {},
   "outputs": [],
   "source": [
    "grid_search_knn.fit(X_train,y_train)\n",
    "knn_params = grid_search_knn.best_params_\n",
    "print(knn_params)"
   ],
   "id": "f59d53d92fb0fd9f"
  },
  {
   "cell_type": "code",
   "execution_count": null,
   "metadata": {},
   "outputs": [],
   "source": [
    "knn_grid = KNeighborsClassifier(**knn_params)\n",
    "knn_grid.fit(X_train,y_train)\n",
    "y_pred_knn_grid = knn_grid.predict(X_test)\n",
    "knn_f1_score2=metrics.f1_score(y_test, y_pred_knn_grid)\n",
    "knn_acc_score2=metrics.accuracy_score(y_test, y_pred_knn_grid)\n",
    "\n",
    "print('Test F1 score: ', knn_f1_score2)\n",
    "print('Test Accuracy score: ', knn_acc_score2)"
   ],
   "id": "9c02a0abea7dd7c5"
  },
  {
   "cell_type": "markdown",
   "metadata": {},
   "source": [
    "# Random forest grid"
   ],
   "id": "1de8f51ff439a80e"
  },
  {
   "cell_type": "code",
   "execution_count": null,
   "metadata": {},
   "outputs": [],
   "source": [
    "param_grid_forest = { \n",
    "    'criterion': ['gini', 'entropy'],\n",
    "    'max_leaf_nodes': [50,60,70],\n",
    "    'max_depth': [4,5,6],\n",
    "    'max_features': ['auto', 'log2']\n",
    "}\n",
    "\n",
    "grid_search_forest = GridSearchCV(estimator = rfc, param_grid = param_grid_forest,cv = 5,scoring = 'accuracy')"
   ],
   "id": "ac37fbdd23f3a764"
  },
  {
   "cell_type": "code",
   "execution_count": null,
   "metadata": {},
   "outputs": [],
   "source": [
    "grid_search_forest.fit(X_train,y_train)\n",
    "forest_params = grid_search_forest.best_params_\n",
    "print(forest_params)"
   ],
   "id": "b019668caee3f2a7"
  },
  {
   "cell_type": "code",
   "outputs": [],
   "source": [
    "forest_grid = RandomForestClassifier(**forest_params)\n",
    "forest_grid.fit(X_train, y_train)\n",
    "y_pred_forest_grid = forest_grid.predict(X_test)\n",
    "rfc_f1_score2=metrics.f1_score(y_test, y_pred_forest_grid)\n",
    "rfc_acc_score2=metrics.accuracy_score(y_test, y_pred_forest_grid)\n",
    "\n",
    "print('Test F1 score: ',rfc_f1_score2)\n",
    "print('Test Accuracy score: ', rfc_acc_score2)\n"
   ],
   "metadata": {},
   "execution_count": null,
   "id": "caa764d4e70503ff"
  },
  {
   "cell_type": "markdown",
   "source": [
    "# Grid Search"
   ],
   "metadata": {},
   "id": "fe201d81f2fdc313"
  },
  {
   "cell_type": "code",
   "outputs": [],
   "source": [
    "model_ev2 = pd.DataFrame({'Model': ['Logistic Regression','Random Forest',\n",
    "                    'K-Nearest Neighbour','Naive Bayes', 'Support Vector Classifier'], 'Accuracy': [lr_acc_score2,\n",
    "                    rfc_acc_score2,knn_acc_score2,nb_acc_score2, svc_acc_score2]})\n",
    "model_ev2"
   ],
   "metadata": {},
   "execution_count": null,
   "id": "1f34a898587000aa"
  },
  {
   "cell_type": "code",
   "outputs": [],
   "source": [
    "from mlxtend.classifier import StackingCVClassifier\n",
    "\n",
    "scv=StackingCVClassifier(classifiers=[logreg_grid,nb_grid,svc_grid],meta_classifier=logreg_grid,random_state=22)\n",
    "scv.fit(X_train,y_train)\n",
    "scv_predicted = scv.predict(X_test)\n",
    "scv_conf_matrix = confusion_matrix(y_test, scv_predicted)\n",
    "scv_acc_score = accuracy_score(y_test, scv_predicted)\n",
    "scv_f1_score = f1_score(y_test, scv_predicted)\n",
    "\n",
    "print(\"confusion matrix\")\n",
    "print(scv_conf_matrix)\n",
    "print(\"\\n\")\n",
    "print(\"Accuracy of StackingCVClassifier:\",scv_acc_score*100,'\\n')\n",
    "print(classification_report(y_test,scv_predicted))"
   ],
   "metadata": {},
   "execution_count": null,
   "id": "ed40a9779aa7b470"
  },
  {
   "cell_type": "code",
   "outputs": [],
   "source": [
    "cm = confusion_matrix(y_test, scv_predicted)\n",
    "\n",
    "import seaborn as sns\n",
    "sns.set(font_scale=1.5)\n",
    " \n",
    "def plot_conf_mat(y_test, y_preds):\n",
    "    fig, ax = plt.subplots(figsize=(3, 3))\n",
    "    ax = sns.heatmap(cm,\n",
    "                     annot=True,\n",
    "                     cbar=False)\n",
    "    plt.xlabel(\"Predicted label\")\n",
    "    plt.ylabel(\"True label\")\n",
    "    \n",
    "plot_conf_mat(y_test, scv_predicted)"
   ],
   "metadata": {},
   "execution_count": null,
   "id": "61d6d2fea30e1843"
  },
  {
   "cell_type": "code",
   "outputs": [],
   "source": [
    "fpr_log_grid, tpr_log_grid, thresholds_log2 = roc_curve(y_test, y_pred_log_grid)\n",
    "fpr_knn_grid, tpr_knn_grid, thresholds_knn2 = roc_curve(y_test, y_pred_knn_grid)\n",
    "fpr_rfc_grid, tpr_rfc_grid, thresholds_rfc2 = roc_curve(y_test, y_pred_forest_grid)\n",
    "fpr_nb_grid, tpr_nb_grid, thresholds_nb2 = roc_curve(y_test, y_pred_nb_grid)\n",
    "fpr_svc_grid, tpr_svc_grid, thresholds_svc2 = roc_curve(y_test, y_pred_svc_grid)"
   ],
   "metadata": {
    "collapsed": false
   },
   "id": "4b2071ba2822e169"
  },
  {
   "cell_type": "markdown",
   "source": [
    "# Plot ROC Curves"
   ],
   "metadata": {},
   "id": "baa63d98a8c37050"
  },
  {
   "cell_type": "code",
   "execution_count": null,
   "metadata": {
    "scrolled": true
   },
   "outputs": [],
   "source": [
    "# Plot ROC curve\n",
    "plt.plot([0, 1], [0, 1], 'k--')\n",
    "plt.plot(fpr_log_grid, tpr_log_grid,label = 'Logistic')\n",
    "plt.plot(fpr_knn_grid, tpr_knn_grid,label = 'KNN')\n",
    "plt.plot(fpr_rfc_grid, tpr_rfc_grid,label = 'Random Forest')\n",
    "plt.plot(fpr_nb_grid,tpr_nb_grid,label= 'Naive Bayes')\n",
    "plt.plot(fpr_svc_grid,tpr_svc_grid,label= 'Support Vector Classifier')\n",
    "plt.xlabel('False Positive Rate')\n",
    "plt.ylabel('True Positive Rate')\n",
    "plt.legend()\n",
    "plt.title('ROC Curve GridSearch')\n",
    "plt.show()"
   ],
   "id": "6953eb6a80493639"
  },
  {
   "cell_type": "code",
   "execution_count": null,
   "metadata": {},
   "outputs": [],
   "source": [
    "# Compute and print AUC score\n",
    "print(\"AUC Logistic: {}\".format(roc_auc_score(y_test, y_pred_log_grid)))\n",
    "print(\"AUC KNN: {}\".format(roc_auc_score(y_test, y_pred_knn_grid)))\n",
    "print(\"AUC Random Forest: {}\".format(roc_auc_score(y_test, y_pred_forest_grid)))\n",
    "print(\"AUC Naive Bayes: {}\".format(roc_auc_score(y_test, y_pred_nb_grid)))\n",
    "print(\"AUC Support Vector Classifier: {}\".format(roc_auc_score(y_test, y_pred_svc_grid)))"
   ],
   "id": "dd1e357b85becb00"
  },
  {
   "cell_type": "code",
   "outputs": [],
   "source": [
    "from sklearn.metrics import RocCurveDisplay \n",
    "RocCurveDisplay.from_estimator(estimator=nb_grid, X=X_test, y=y_test); "
   ],
   "metadata": {
    "collapsed": false
   },
   "execution_count": null,
   "id": "575394484c6acad0"
  },
  {
   "cell_type": "code",
   "outputs": [],
   "source": [],
   "metadata": {
    "collapsed": false
   },
   "id": "8f4efde88350d156"
  }
 ],
 "metadata": {
  "kernelspec": {
   "display_name": "Python 3",
   "language": "python",
   "name": "python3"
  },
  "language_info": {
   "codemirror_mode": {
    "name": "ipython",
    "version": 3
   },
   "file_extension": ".py",
   "mimetype": "text/x-python",
   "name": "python",
   "nbconvert_exporter": "python",
   "pygments_lexer": "ipython3",
   "version": "3.6.9"
  }
 },
 "nbformat": 4,
 "nbformat_minor": 5
}
